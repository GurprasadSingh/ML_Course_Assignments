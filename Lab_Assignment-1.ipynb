{
 "cells": [
  {
   "cell_type": "markdown",
   "id": "b76e3d47",
   "metadata": {},
   "source": [
    "# Problem Statement - 1"
   ]
  },
  {
   "cell_type": "code",
   "execution_count": 1,
   "id": "415c3998",
   "metadata": {},
   "outputs": [
    {
     "name": "stdout",
     "output_type": "stream",
     "text": [
      "Enter your name Gurprasad\n",
      "Enter your age 22\n",
      "Enter the no. of repetitions 5\n",
      "Hey Gurprasad! You will turn 100 years in age in year 2099\n",
      "Hey Gurprasad! You will turn 100 years in age in year 2099\n",
      "Hey Gurprasad! You will turn 100 years in age in year 2099\n",
      "Hey Gurprasad! You will turn 100 years in age in year 2099\n",
      "Hey Gurprasad! You will turn 100 years in age in year 2099\n"
     ]
    }
   ],
   "source": [
    "n = input(\"Enter your name \")\n",
    "a = int(input(\"Enter your age \"))\n",
    "repeat = int(input(\"Enter the no. of repetitions \"))\n",
    "for i in range(repeat):\n",
    "    print(\"Hey %s! You will turn 100 years in age in year %s\" % (n,str(2021+100-a)))"
   ]
  },
  {
   "cell_type": "markdown",
   "id": "5cf9fef2",
   "metadata": {},
   "source": [
    "# Problem Statement - 2"
   ]
  },
  {
   "cell_type": "code",
   "execution_count": 2,
   "id": "750b7faa",
   "metadata": {},
   "outputs": [
    {
     "name": "stdout",
     "output_type": "stream",
     "text": [
      "Enter a no. 17\n",
      "[1, 1, 2, 3, 5, 8, 13]\n"
     ]
    }
   ],
   "source": [
    "l1 =  [1, 1, 2, 3, 5, 8, 13, 21, 34, 55, 89]\n",
    "x = int(input(\"Enter a no. \"))\n",
    "l2 = [i for i in l1 if i<x]\n",
    "print(l2)"
   ]
  },
  {
   "cell_type": "markdown",
   "id": "8ffc3a78",
   "metadata": {},
   "source": [
    "# Problem Statement - 3"
   ]
  },
  {
   "cell_type": "code",
   "execution_count": 3,
   "id": "5c5b31d1",
   "metadata": {},
   "outputs": [],
   "source": [
    "def fib(n):\n",
    "    if n <= 0:\n",
    "        print(\"Please enter a positive integer\")\n",
    "    elif n == 1:\n",
    "        print(1)\n",
    "    else:\n",
    "        count = 0\n",
    "        F1,F2 = 0,1\n",
    "        while (count < n):\n",
    "            print(F2, end = \",\")\n",
    "            F3 = F1+F2\n",
    "            F1 = F2\n",
    "            F2 = F3\n",
    "            count+=1\n",
    "        "
   ]
  },
  {
   "cell_type": "code",
   "execution_count": 4,
   "id": "8c175061",
   "metadata": {},
   "outputs": [
    {
     "name": "stdout",
     "output_type": "stream",
     "text": [
      "Enter the number of elements in the sequence 10\n",
      "1,1,2,3,5,8,13,21,34,55,"
     ]
    }
   ],
   "source": [
    "n = int(input(\"Enter the number of elements in the sequence \"))\n",
    "fib(n)    "
   ]
  },
  {
   "cell_type": "markdown",
   "id": "1fbce933",
   "metadata": {},
   "source": [
    "# Problem Statement - 4"
   ]
  },
  {
   "cell_type": "markdown",
   "id": "4c06bc10",
   "metadata": {},
   "source": [
    "Part1 - using loop"
   ]
  },
  {
   "cell_type": "code",
   "execution_count": 5,
   "id": "e5d5b2f3",
   "metadata": {},
   "outputs": [],
   "source": [
    "def eleminate_duplicates(l):\n",
    "    l1 = []\n",
    "    for i in l:\n",
    "        if i not in l1:\n",
    "            l1.append(i)\n",
    "    return l1"
   ]
  },
  {
   "cell_type": "code",
   "execution_count": 6,
   "id": "1d4b8e7d",
   "metadata": {},
   "outputs": [
    {
     "name": "stdout",
     "output_type": "stream",
     "text": [
      "[2, 9, 8, 6, 7]\n"
     ]
    }
   ],
   "source": [
    "print(eleminate_duplicates([2,2,9,8,6,9,7,8,6,7]))"
   ]
  },
  {
   "cell_type": "markdown",
   "id": "990267cd",
   "metadata": {},
   "source": [
    "Part2 - using sets"
   ]
  },
  {
   "cell_type": "code",
   "execution_count": 7,
   "id": "557c4073",
   "metadata": {},
   "outputs": [],
   "source": [
    "def eleminate_duplicates(l):\n",
    "    l1=set(l)\n",
    "    return list(l1)"
   ]
  },
  {
   "cell_type": "code",
   "execution_count": 8,
   "id": "ede3d1e7",
   "metadata": {},
   "outputs": [
    {
     "name": "stdout",
     "output_type": "stream",
     "text": [
      "[2, 6, 7, 8, 9]\n"
     ]
    }
   ],
   "source": [
    "print(eleminate_duplicates([2,2,9,8,6,9,7,8,6,7]))"
   ]
  },
  {
   "cell_type": "markdown",
   "id": "c6f0387b",
   "metadata": {},
   "source": [
    "# Problem Statement - 5"
   ]
  },
  {
   "cell_type": "code",
   "execution_count": 9,
   "id": "afec0f8e",
   "metadata": {},
   "outputs": [],
   "source": [
    "def prime(n):\n",
    "    if (n>1):\n",
    "        for i in range(2,n):\n",
    "            if (n%i == 0):\n",
    "                return (\"not a prime number\")\n",
    "        return(\"It is a prime number\")\n",
    "    else:\n",
    "        return (\"not a prime number\")"
   ]
  },
  {
   "cell_type": "code",
   "execution_count": 10,
   "id": "d00bf50d",
   "metadata": {},
   "outputs": [
    {
     "name": "stdout",
     "output_type": "stream",
     "text": [
      "Enter a number 23\n",
      "It is a prime number\n"
     ]
    }
   ],
   "source": [
    "number = int(input(\"Enter a number \"))\n",
    "print(prime(number))"
   ]
  }
 ],
 "metadata": {
  "kernelspec": {
   "display_name": "Python 3",
   "language": "python",
   "name": "python3"
  },
  "language_info": {
   "codemirror_mode": {
    "name": "ipython",
    "version": 3
   },
   "file_extension": ".py",
   "mimetype": "text/x-python",
   "name": "python",
   "nbconvert_exporter": "python",
   "pygments_lexer": "ipython3",
   "version": "3.8.6"
  }
 },
 "nbformat": 4,
 "nbformat_minor": 5
}
